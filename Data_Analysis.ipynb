{
 "cells": [
  {
   "cell_type": "markdown",
   "metadata": {},
   "source": [
    "# Summer Olympics Data Analysis Assignment"
   ]
  },
  {
   "cell_type": "code",
   "execution_count": 3,
   "metadata": {},
   "outputs": [
    {
     "data": {
      "text/html": [
       "<div>\n",
       "<style scoped>\n",
       "    .dataframe tbody tr th:only-of-type {\n",
       "        vertical-align: middle;\n",
       "    }\n",
       "\n",
       "    .dataframe tbody tr th {\n",
       "        vertical-align: top;\n",
       "    }\n",
       "\n",
       "    .dataframe thead th {\n",
       "        text-align: right;\n",
       "    }\n",
       "</style>\n",
       "<table border=\"1\" class=\"dataframe\">\n",
       "  <thead>\n",
       "    <tr style=\"text-align: right;\">\n",
       "      <th></th>\n",
       "      <th>Year</th>\n",
       "      <th>City</th>\n",
       "      <th>Sport</th>\n",
       "      <th>Discipline</th>\n",
       "      <th>Athlete</th>\n",
       "      <th>Country</th>\n",
       "      <th>Gender</th>\n",
       "      <th>Event</th>\n",
       "      <th>Medal</th>\n",
       "    </tr>\n",
       "  </thead>\n",
       "  <tbody>\n",
       "    <tr>\n",
       "      <th>0</th>\n",
       "      <td>1896</td>\n",
       "      <td>Athens</td>\n",
       "      <td>Aquatics</td>\n",
       "      <td>Swimming</td>\n",
       "      <td>HAJOS, Alfred</td>\n",
       "      <td>HUN</td>\n",
       "      <td>Men</td>\n",
       "      <td>100M Freestyle</td>\n",
       "      <td>Gold</td>\n",
       "    </tr>\n",
       "    <tr>\n",
       "      <th>1</th>\n",
       "      <td>1896</td>\n",
       "      <td>Athens</td>\n",
       "      <td>Aquatics</td>\n",
       "      <td>Swimming</td>\n",
       "      <td>HERSCHMANN, Otto</td>\n",
       "      <td>AUT</td>\n",
       "      <td>Men</td>\n",
       "      <td>100M Freestyle</td>\n",
       "      <td>Silver</td>\n",
       "    </tr>\n",
       "    <tr>\n",
       "      <th>2</th>\n",
       "      <td>1896</td>\n",
       "      <td>Athens</td>\n",
       "      <td>Aquatics</td>\n",
       "      <td>Swimming</td>\n",
       "      <td>DRIVAS, Dimitrios</td>\n",
       "      <td>GRE</td>\n",
       "      <td>Men</td>\n",
       "      <td>100M Freestyle For Sailors</td>\n",
       "      <td>Bronze</td>\n",
       "    </tr>\n",
       "    <tr>\n",
       "      <th>3</th>\n",
       "      <td>1896</td>\n",
       "      <td>Athens</td>\n",
       "      <td>Aquatics</td>\n",
       "      <td>Swimming</td>\n",
       "      <td>MALOKINIS, Ioannis</td>\n",
       "      <td>GRE</td>\n",
       "      <td>Men</td>\n",
       "      <td>100M Freestyle For Sailors</td>\n",
       "      <td>Gold</td>\n",
       "    </tr>\n",
       "    <tr>\n",
       "      <th>4</th>\n",
       "      <td>1896</td>\n",
       "      <td>Athens</td>\n",
       "      <td>Aquatics</td>\n",
       "      <td>Swimming</td>\n",
       "      <td>CHASAPIS, Spiridon</td>\n",
       "      <td>GRE</td>\n",
       "      <td>Men</td>\n",
       "      <td>100M Freestyle For Sailors</td>\n",
       "      <td>Silver</td>\n",
       "    </tr>\n",
       "    <tr>\n",
       "      <th>...</th>\n",
       "      <td>...</td>\n",
       "      <td>...</td>\n",
       "      <td>...</td>\n",
       "      <td>...</td>\n",
       "      <td>...</td>\n",
       "      <td>...</td>\n",
       "      <td>...</td>\n",
       "      <td>...</td>\n",
       "      <td>...</td>\n",
       "    </tr>\n",
       "    <tr>\n",
       "      <th>31160</th>\n",
       "      <td>2012</td>\n",
       "      <td>London</td>\n",
       "      <td>Wrestling</td>\n",
       "      <td>Wrestling Freestyle</td>\n",
       "      <td>JANIKOWSKI, Damian</td>\n",
       "      <td>POL</td>\n",
       "      <td>Men</td>\n",
       "      <td>Wg 84 KG</td>\n",
       "      <td>Bronze</td>\n",
       "    </tr>\n",
       "    <tr>\n",
       "      <th>31161</th>\n",
       "      <td>2012</td>\n",
       "      <td>London</td>\n",
       "      <td>Wrestling</td>\n",
       "      <td>Wrestling Freestyle</td>\n",
       "      <td>REZAEI, Ghasem Gholamreza</td>\n",
       "      <td>IRI</td>\n",
       "      <td>Men</td>\n",
       "      <td>Wg 96 KG</td>\n",
       "      <td>Gold</td>\n",
       "    </tr>\n",
       "    <tr>\n",
       "      <th>31162</th>\n",
       "      <td>2012</td>\n",
       "      <td>London</td>\n",
       "      <td>Wrestling</td>\n",
       "      <td>Wrestling Freestyle</td>\n",
       "      <td>TOTROV, Rustam</td>\n",
       "      <td>RUS</td>\n",
       "      <td>Men</td>\n",
       "      <td>Wg 96 KG</td>\n",
       "      <td>Silver</td>\n",
       "    </tr>\n",
       "    <tr>\n",
       "      <th>31163</th>\n",
       "      <td>2012</td>\n",
       "      <td>London</td>\n",
       "      <td>Wrestling</td>\n",
       "      <td>Wrestling Freestyle</td>\n",
       "      <td>ALEKSANYAN, Artur</td>\n",
       "      <td>ARM</td>\n",
       "      <td>Men</td>\n",
       "      <td>Wg 96 KG</td>\n",
       "      <td>Bronze</td>\n",
       "    </tr>\n",
       "    <tr>\n",
       "      <th>31164</th>\n",
       "      <td>2012</td>\n",
       "      <td>London</td>\n",
       "      <td>Wrestling</td>\n",
       "      <td>Wrestling Freestyle</td>\n",
       "      <td>LIDBERG, Jimmy</td>\n",
       "      <td>SWE</td>\n",
       "      <td>Men</td>\n",
       "      <td>Wg 96 KG</td>\n",
       "      <td>Bronze</td>\n",
       "    </tr>\n",
       "  </tbody>\n",
       "</table>\n",
       "<p>31165 rows × 9 columns</p>\n",
       "</div>"
      ],
      "text/plain": [
       "       Year    City      Sport           Discipline  \\\n",
       "0      1896  Athens   Aquatics             Swimming   \n",
       "1      1896  Athens   Aquatics             Swimming   \n",
       "2      1896  Athens   Aquatics             Swimming   \n",
       "3      1896  Athens   Aquatics             Swimming   \n",
       "4      1896  Athens   Aquatics             Swimming   \n",
       "...     ...     ...        ...                  ...   \n",
       "31160  2012  London  Wrestling  Wrestling Freestyle   \n",
       "31161  2012  London  Wrestling  Wrestling Freestyle   \n",
       "31162  2012  London  Wrestling  Wrestling Freestyle   \n",
       "31163  2012  London  Wrestling  Wrestling Freestyle   \n",
       "31164  2012  London  Wrestling  Wrestling Freestyle   \n",
       "\n",
       "                         Athlete Country Gender                       Event  \\\n",
       "0                  HAJOS, Alfred     HUN    Men              100M Freestyle   \n",
       "1               HERSCHMANN, Otto     AUT    Men              100M Freestyle   \n",
       "2              DRIVAS, Dimitrios     GRE    Men  100M Freestyle For Sailors   \n",
       "3             MALOKINIS, Ioannis     GRE    Men  100M Freestyle For Sailors   \n",
       "4             CHASAPIS, Spiridon     GRE    Men  100M Freestyle For Sailors   \n",
       "...                          ...     ...    ...                         ...   \n",
       "31160         JANIKOWSKI, Damian     POL    Men                    Wg 84 KG   \n",
       "31161  REZAEI, Ghasem Gholamreza     IRI    Men                    Wg 96 KG   \n",
       "31162             TOTROV, Rustam     RUS    Men                    Wg 96 KG   \n",
       "31163          ALEKSANYAN, Artur     ARM    Men                    Wg 96 KG   \n",
       "31164             LIDBERG, Jimmy     SWE    Men                    Wg 96 KG   \n",
       "\n",
       "        Medal  \n",
       "0        Gold  \n",
       "1      Silver  \n",
       "2      Bronze  \n",
       "3        Gold  \n",
       "4      Silver  \n",
       "...       ...  \n",
       "31160  Bronze  \n",
       "31161    Gold  \n",
       "31162  Silver  \n",
       "31163  Bronze  \n",
       "31164  Bronze  \n",
       "\n",
       "[31165 rows x 9 columns]"
      ]
     },
     "execution_count": 3,
     "metadata": {},
     "output_type": "execute_result"
    }
   ],
   "source": [
    "import pandas as pd\n",
    "\n",
    "df = pd.read_csv('summer.csv')\n",
    "df"
   ]
  },
  {
   "cell_type": "markdown",
   "metadata": {},
   "source": [
    "### 1. In how many cities Summer Olympics is held so far?"
   ]
  },
  {
   "cell_type": "code",
   "execution_count": 11,
   "metadata": {},
   "outputs": [
    {
     "name": "stdout",
     "output_type": "stream",
     "text": [
      "**** Cities in Summer Olympics is held so far ****\n",
      "\n",
      "                     City  Frequency\n",
      "3                  London       3567\n",
      "0                  Athens       2149\n",
      "7             Los Angeles       2074\n",
      "21                Beijing       2042\n",
      "20                 Sydney       2015\n",
      "19                Atlanta       1859\n",
      "18              Barcelona       1705\n",
      "17                  Seoul       1546\n",
      "1                   Paris       1396\n",
      "16                 Moscow       1387\n",
      "15               Montreal       1305\n",
      "5                 Antwerp       1298\n",
      "14                 Munich       1185\n",
      "13                 Mexico       1031\n",
      "12                  Tokyo       1010\n",
      "9                Helsinki        889\n",
      "4               Stockholm        885\n",
      "10  Melbourne / Stockholm        885\n",
      "11                   Rome        882\n",
      "8                  Berlin        875\n",
      "6               Amsterdam        710\n",
      "2                St Louis        470\n",
      "\n",
      "Data Representation of Top-5 sports having most number of Gold Medals using Bar-Graph!! \n"
     ]
    },
    {
     "data": {
      "image/png": "[encoded data removed]",
      "text/plain": [
       "<Figure size 432x288 with 1 Axes>"
      ]
     },
     "metadata": {
      "needs_background": "light"
     },
     "output_type": "display_data"
    }
   ],
   "source": [
    "data = []\n",
    "\n",
    "for City in df['City'].unique():\n",
    "    data.append((City, len(df[df['City']== City])))\n",
    "    \n",
    "data = pd.DataFrame(data, columns=['City', 'Frequency'])\n",
    "\n",
    "data = data.sort_values(by = 'Frequency', ascending = False)\n",
    "print('**** Cities in Summer Olympics is held so far ****\\n')\n",
    "print(data)\n",
    "\n",
    "data.plot(x = 'City', y = 'Frequency', kind = 'line', color = ('purple'))\n",
    "print('\\nData Representation of Top-5 sports having most number of Gold Medals using Bar-Graph!! ')"
   ]
  },
  {
   "cell_type": "markdown",
   "metadata": {},
   "source": [
    "### 2. Which sport is having most number of Gold Medals so far? (Top 5)"
   ]
  },
  {
   "cell_type": "code",
   "execution_count": 12,
   "metadata": {},
   "outputs": [
    {
     "name": "stdout",
     "output_type": "stream",
     "text": [
      "**** Top-5 sports having most number of Gold Medals ****\n",
      "\n",
      "        Sports  Gold_Medals\n",
      "0     Aquatics         1421\n",
      "1    Athletics         1215\n",
      "17      Rowing          890\n",
      "4   Gymnastics          820\n",
      "3      Fencing          552\n",
      "\n",
      "Data Representation of Top-5 sports having most number of Gold Medals using Bar-Graph!! \n"
     ]
    },
    {
     "data": {
      "image/png": "[encoded data removed]",
      "text/plain": [
       "<Figure size 432x288 with 1 Axes>"
      ]
     },
     "metadata": {
      "needs_background": "light"
     },
     "output_type": "display_data"
    }
   ],
   "source": [
    "dc = df[df['Medal'] == 'Gold']\n",
    "data = []\n",
    "for model in dc['Sport'].unique():\n",
    "    data.append((model, len(dc[dc['Sport'] == model])))\n",
    "    \n",
    "data = pd.DataFrame(data, columns = ['Sports', 'Gold_Medals'])\n",
    "\n",
    "data = data.sort_values(by = 'Gold_Medals', ascending = False).head()\n",
    "print('**** Top-5 sports having most number of Gold Medals ****\\n')\n",
    "print(data)\n",
    "\n",
    "data.plot(x = 'Sports', y = 'Gold_Medals', kind = 'bar')\n",
    "print('\\nData Representation of Top-5 sports having most number of Gold Medals using Bar-Graph!! ')"
   ]
  },
  {
   "cell_type": "markdown",
   "metadata": {},
   "source": [
    "### 3. Which sport is having most number of medals so far? (Top 5)"
   ]
  },
  {
   "cell_type": "code",
   "execution_count": 4,
   "metadata": {},
   "outputs": [
    {
     "name": "stdout",
     "output_type": "stream",
     "text": [
      "**** Top-5 sports having most number of Medals ****\n",
      "\n",
      "        Sports  Medals\n",
      "0     Aquatics    4170\n",
      "1    Athletics    3638\n",
      "17      Rowing    2667\n",
      "4   Gymnastics    2307\n",
      "3      Fencing    1613\n",
      "\n",
      "Data Representation of Top-5 sports having most number of Medals using line-Graph!! \n"
     ]
    },
    {
     "data": {
      "image/png": "[encoded data removed]",
      "text/plain": [
       "<Figure size 432x288 with 1 Axes>"
      ]
     },
     "metadata": {
      "needs_background": "light"
     },
     "output_type": "display_data"
    }
   ],
   "source": [
    "data = []\n",
    "for model in df['Sport'].unique():\n",
    "    data.append((model, len(df[df['Sport'] == model])))\n",
    "    \n",
    "data = pd.DataFrame(data, columns = ['Sports', 'Medals'])\n",
    "\n",
    "data = data.sort_values(by = 'Medals', ascending = False).head()\n",
    "print('**** Top-5 sports having most number of Medals ****\\n')\n",
    "print(data)\n",
    "\n",
    "data.plot(x = 'Sports', y = 'Medals', kind = 'line')\n",
    "print('\\nData Representation of Top-5 sports having most number of Medals using line-Graph!! ')"
   ]
  },
  {
   "cell_type": "markdown",
   "metadata": {},
   "source": [
    "### 4. Which player has won most number of medals? (Top 5)"
   ]
  },
  {
   "cell_type": "code",
   "execution_count": 5,
   "metadata": {},
   "outputs": [
    {
     "name": "stdout",
     "output_type": "stream",
     "text": [
      "**** Top-5 Players having most number of Medals ****\n",
      "\n",
      "                    Athlete  Medals\n",
      "18640       PHELPS, Michael      22\n",
      "7197       LATYNINA, Larisa      18\n",
      "9948     ANDRIANOV, Nikolay      15\n",
      "6591           ONO, Takashi      13\n",
      "5103   MANGIAROTTI, Edoardo      13\n",
      "\n",
      "Data Representation of Top-5 Players having most number of Medals using Bar-Graph!! \n"
     ]
    },
    {
     "data": {
      "image/png": "[encoded data removed]",
      "text/plain": [
       "<Figure size 432x288 with 1 Axes>"
      ]
     },
     "metadata": {
      "needs_background": "light"
     },
     "output_type": "display_data"
    }
   ],
   "source": [
    "data = []\n",
    "for model in df['Athlete'].unique():\n",
    "    data.append((model, len(df[df['Athlete'] == model])))\n",
    "    \n",
    "data = pd.DataFrame(data, columns = ['Athlete', 'Medals'])\n",
    "\n",
    "data = data.sort_values(by = 'Medals', ascending = False).head()\n",
    "print('**** Top-5 Players having most number of Medals ****\\n')\n",
    "print(data)\n",
    "\n",
    "data.plot(x = 'Athlete', y = 'Medals', kind = 'bar', color = 'maroon')\n",
    "print('\\nData Representation of Top-5 Players having most number of Medals using Bar-Graph!! ')"
   ]
  },
  {
   "cell_type": "markdown",
   "metadata": {},
   "source": [
    "### 5. Which player has won most number Gold Medals of medals? (Top 5)"
   ]
  },
  {
   "cell_type": "code",
   "execution_count": 6,
   "metadata": {},
   "outputs": [
    {
     "name": "stdout",
     "output_type": "stream",
     "text": [
      "**** Top-5 Players having most number of Gold_Medals ****\n",
      "\n",
      "               Athlete  Gold_Medals\n",
      "6851   PHELPS, Michael           18\n",
      "3320       SPITZ, Mark            9\n",
      "2714  LATYNINA, Larisa            9\n",
      "4630       LEWIS, Carl            9\n",
      "907       NURMI, Paavo            9\n",
      "\n",
      "Data Representation of Top-5 Players having most number of Gold Medals using bar-Graph!! \n"
     ]
    },
    {
     "data": {
      "image/png": "[encoded data removed]",
      "text/plain": [
       "<Figure size 432x288 with 1 Axes>"
      ]
     },
     "metadata": {
      "needs_background": "light"
     },
     "output_type": "display_data"
    }
   ],
   "source": [
    "dc = df[df['Medal'] == 'Gold']\n",
    "data = []\n",
    "for model in dc['Athlete'].unique():\n",
    "    data.append((model, len(dc[dc['Athlete'] == model])))\n",
    "    \n",
    "data = pd.DataFrame(data, columns = ['Athlete', 'Gold_Medals'])\n",
    "\n",
    "data = data.sort_values(by = 'Gold_Medals', ascending = False).head()\n",
    "print('**** Top-5 Players having most number of Gold_Medals ****\\n')\n",
    "print(data)\n",
    "\n",
    "data.plot(x = 'Athlete', y = 'Gold_Medals', kind = 'bar', color = 'green')\n",
    "print('\\nData Representation of Top-5 Players having most number of Gold Medals using bar-Graph!! ')"
   ]
  },
  {
   "cell_type": "markdown",
   "metadata": {},
   "source": [
    "### 6. In which year India won first Gold Medal in Summer Olympics?"
   ]
  },
  {
   "cell_type": "code",
   "execution_count": 7,
   "metadata": {},
   "outputs": [
    {
     "name": "stdout",
     "output_type": "stream",
     "text": [
      "**** India won Gold Medal in Summer Olympics ****\n",
      "\n",
      "   Year  Gold_Medals\n",
      "0  1928           15\n",
      "1  1932           11\n",
      "2  1936           19\n",
      "3  1948           20\n",
      "4  1952           14\n",
      "5  1956           17\n",
      "6  1964           15\n",
      "7  1980           16\n",
      "8  2008            1\n",
      "\n",
      "In 1928 India won first Gold Medal in Summer Olympics\n",
      "\n",
      "Data Representation of INDIA won Gold Medals using line-Graph!! \n"
     ]
    },
    {
     "data": {
      "image/png": "[encoded data removed]",
      "text/plain": [
       "<Figure size 432x288 with 1 Axes>"
      ]
     },
     "metadata": {
      "needs_background": "light"
     },
     "output_type": "display_data"
    }
   ],
   "source": [
    "dc = df[df['Country']== 'IND']\n",
    "dd = dc[dc['Medal'] == 'Gold']\n",
    "data = []\n",
    "for model in dd['Year'].unique():\n",
    "    data.append((model, len(dd[dd['Year'] == model])))\n",
    "    \n",
    "data = pd.DataFrame(data, columns = ['Year', 'Gold_Medals'])\n",
    "\n",
    "data = data.sort_values(by = 'Year', ascending = True)\n",
    "print('**** India won Gold Medal in Summer Olympics ****\\n')\n",
    "print(data)\n",
    "\n",
    "data.plot(x = 'Year', y = 'Gold_Medals', kind = 'line', color ='purple')\n",
    "print('\\nIn 1928 India won first Gold Medal in Summer Olympics')\n",
    "print('\\nData Representation of INDIA won Gold Medals using line-Graph!! ')"
   ]
  },
  {
   "cell_type": "markdown",
   "metadata": {},
   "source": [
    "### 7. Which event is most popular in terms on number of players? (Top 5)"
   ]
  },
  {
   "cell_type": "code",
   "execution_count": 8,
   "metadata": {},
   "outputs": [
    {
     "name": "stdout",
     "output_type": "stream",
     "text": [
      "**** Top-5 most popular Events in terms on number of players ****\n",
      "\n",
      "                Event  Athlete\n",
      "80           Football     1497\n",
      "176            Hockey     1422\n",
      "138  Team Competition     1147\n",
      "327        Basketball     1012\n",
      "337          Handball      973\n",
      "\n",
      "Data Representation of Top-5 most popular Events in terms on number of players using Bar-Graph!! \n"
     ]
    },
    {
     "data": {
      "image/png": "[encoded data removed]",
      "text/plain": [
       "<Figure size 432x288 with 1 Axes>"
      ]
     },
     "metadata": {
      "needs_background": "light"
     },
     "output_type": "display_data"
    }
   ],
   "source": [
    "data = []\n",
    "for model in df['Event'].unique():\n",
    "    data.append((model, len(df[df['Event'] == model])))\n",
    "    \n",
    "data = pd.DataFrame(data, columns = ['Event', 'Athlete'])\n",
    "\n",
    "data = data.sort_values(by = 'Athlete', ascending = False).head()\n",
    "print('**** Top-5 most popular Events in terms on number of players ****\\n')\n",
    "print(data)\n",
    "\n",
    "data.plot(x = 'Event', y = 'Athlete', kind = 'bar', color = 'brown')\n",
    "print('\\nData Representation of Top-5 most popular Events in terms on number of players using Bar-Graph!! ')"
   ]
  },
  {
   "cell_type": "markdown",
   "metadata": {},
   "source": [
    "### 8. Which sport is having most female Gold Medalists? (Top 5)"
   ]
  },
  {
   "cell_type": "code",
   "execution_count": 9,
   "metadata": {},
   "outputs": [
    {
     "name": "stdout",
     "output_type": "stream",
     "text": [
      "**** Sport is having most female Gold Medalists ****\n",
      "\n",
      "         Sport  Female_Gold_Medalist\n",
      "4     Aquatics                   589\n",
      "7    Athletics                   389\n",
      "8   Gymnastics                   268\n",
      "14      Rowing                   217\n",
      "11  Volleyball                   166\n",
      "\n",
      "Data Representation of Sport is having most female Gold Medalists using line-Graph!! \n"
     ]
    },
    {
     "data": {
      "image/png": "[encoded data removed]",
      "text/plain": [
       "<Figure size 432x288 with 1 Axes>"
      ]
     },
     "metadata": {
      "needs_background": "light"
     },
     "output_type": "display_data"
    }
   ],
   "source": [
    "dc = df[df['Gender']== 'Women']\n",
    "dd = dc[dc['Medal'] == 'Gold']\n",
    "data = []\n",
    "for model in dd['Sport'].unique():\n",
    "    data.append((model, len(dd[dd['Sport'] == model])))\n",
    "    \n",
    "data = pd.DataFrame(data, columns = ['Sport', 'Female_Gold_Medalist'])\n",
    "\n",
    "data = data.sort_values(by = 'Female_Gold_Medalist', ascending = False).head()\n",
    "print('**** Sport is having most female Gold Medalists ****\\n')\n",
    "print(data)\n",
    "\n",
    "data.plot(x = 'Sport', y = 'Female_Gold_Medalist', kind = 'line', color ='purple')\n",
    "\n",
    "print('\\nData Representation of Sport is having most female Gold Medalists using line-Graph!! ')"
   ]
  }
 ],
 "metadata": {
  "kernelspec": {
   "display_name": "Python 3",
   "language": "python",
   "name": "python3"
  },
  "language_info": {
   "codemirror_mode": {
    "name": "ipython",
    "version": 3
   },
   "file_extension": ".py",
   "mimetype": "text/x-python",
   "name": "python",
   "nbconvert_exporter": "python",
   "pygments_lexer": "ipython3",
   "version": "3.8.8"
  }
 },
 "nbformat": 4,
 "nbformat_minor": 2
}
